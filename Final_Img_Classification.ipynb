{
  "cells": [
    {
      "cell_type": "markdown",
      "metadata": {
        "id": "view-in-github",
        "colab_type": "text"
      },
      "source": [
        "<a href=\"https://colab.research.google.com/github/Balaji507/Leaf-disease-detection/blob/main/Final_Img_Classification.ipynb\" target=\"_parent\"><img src=\"https://colab.research.google.com/assets/colab-badge.svg\" alt=\"Open In Colab\"/></a>"
      ]
    },
    {
      "cell_type": "code",
      "execution_count": null,
      "metadata": {
        "colab": {
          "base_uri": "https://localhost:8080/"
        },
        "id": "7Gqty9_qq8lY",
        "outputId": "2d96c7be-7788-41b3-94b4-48c14b659137"
      },
      "outputs": [
        {
          "output_type": "stream",
          "name": "stdout",
          "text": [
            "Drive already mounted at /content/drive; to attempt to forcibly remount, call drive.mount(\"/content/drive\", force_remount=True).\n"
          ]
        }
      ],
      "source": [
        "from google.colab import drive\n",
        "drive.mount('/content/drive')"
      ]
    },
    {
      "cell_type": "code",
      "execution_count": null,
      "metadata": {
        "id": "HJPWq9i-uhLw",
        "colab": {
          "base_uri": "https://localhost:8080/"
        },
        "outputId": "c99b32c1-5e16-42a4-b13e-092040618652"
      },
      "outputs": [
        {
          "output_type": "stream",
          "name": "stdout",
          "text": [
            "Looking in indexes: https://pypi.org/simple, https://us-python.pkg.dev/colab-wheels/public/simple/\n",
            "Collecting mxnet-cu101==1.7.0\n",
            "  Downloading mxnet_cu101-1.7.0-py2.py3-none-manylinux2014_x86_64.whl (846.0 MB)\n",
            "\u001b[2K     \u001b[90m━━━━━━━━━━━━━━━━━━━━━━━━━━━━━━━━━━━━━━━\u001b[0m \u001b[32m846.0/846.0 MB\u001b[0m \u001b[31m1.7 MB/s\u001b[0m eta \u001b[36m0:00:00\u001b[0m\n",
            "\u001b[?25hCollecting graphviz<0.9.0,>=0.8.1\n",
            "  Downloading graphviz-0.8.4-py2.py3-none-any.whl (16 kB)\n",
            "Requirement already satisfied: requests<3,>=2.20.0 in /usr/local/lib/python3.9/dist-packages (from mxnet-cu101==1.7.0) (2.27.1)\n",
            "Requirement already satisfied: numpy<2.0.0,>1.16.0 in /usr/local/lib/python3.9/dist-packages (from mxnet-cu101==1.7.0) (1.24.2)\n",
            "Requirement already satisfied: urllib3<1.27,>=1.21.1 in /usr/local/lib/python3.9/dist-packages (from requests<3,>=2.20.0->mxnet-cu101==1.7.0) (1.26.15)\n",
            "Requirement already satisfied: idna<4,>=2.5 in /usr/local/lib/python3.9/dist-packages (from requests<3,>=2.20.0->mxnet-cu101==1.7.0) (3.4)\n",
            "Requirement already satisfied: certifi>=2017.4.17 in /usr/local/lib/python3.9/dist-packages (from requests<3,>=2.20.0->mxnet-cu101==1.7.0) (2022.12.7)\n",
            "Requirement already satisfied: charset-normalizer~=2.0.0 in /usr/local/lib/python3.9/dist-packages (from requests<3,>=2.20.0->mxnet-cu101==1.7.0) (2.0.12)\n",
            "Installing collected packages: graphviz, mxnet-cu101\n",
            "  Attempting uninstall: graphviz\n",
            "    Found existing installation: graphviz 0.20.1\n",
            "    Uninstalling graphviz-0.20.1:\n",
            "      Successfully uninstalled graphviz-0.20.1\n",
            "Successfully installed graphviz-0.8.4 mxnet-cu101-1.7.0\n",
            "Looking in indexes: https://pypi.org/simple, https://us-python.pkg.dev/colab-wheels/public/simple/\n",
            "Collecting d2l==1.0.0-beta0\n",
            "  Downloading d2l-1.0.0b0-py3-none-any.whl (141 kB)\n",
            "\u001b[2K     \u001b[90m━━━━━━━━━━━━━━━━━━━━━━━━━━━━━━━━━━━━━━━\u001b[0m \u001b[32m141.6/141.6 kB\u001b[0m \u001b[31m5.1 MB/s\u001b[0m eta \u001b[36m0:00:00\u001b[0m\n",
            "\u001b[?25hRequirement already satisfied: requests in /usr/local/lib/python3.9/dist-packages (from d2l==1.0.0-beta0) (2.27.1)\n",
            "Requirement already satisfied: matplotlib in /usr/local/lib/python3.9/dist-packages (from d2l==1.0.0-beta0) (3.7.1)\n",
            "Collecting gym==0.21.0\n",
            "  Downloading gym-0.21.0.tar.gz (1.5 MB)\n",
            "\u001b[2K     \u001b[90m━━━━━━━━━━━━━━━━━━━━━━━━━━━━━━━━━━━━━━━━\u001b[0m \u001b[32m1.5/1.5 MB\u001b[0m \u001b[31m32.3 MB/s\u001b[0m eta \u001b[36m0:00:00\u001b[0m\n",
            "\u001b[?25h  \u001b[1;31merror\u001b[0m: \u001b[1msubprocess-exited-with-error\u001b[0m\n",
            "  \n",
            "  \u001b[31m×\u001b[0m \u001b[32mpython setup.py egg_info\u001b[0m did not run successfully.\n",
            "  \u001b[31m│\u001b[0m exit code: \u001b[1;36m1\u001b[0m\n",
            "  \u001b[31m╰─>\u001b[0m See above for output.\n",
            "  \n",
            "  \u001b[1;35mnote\u001b[0m: This error originates from a subprocess, and is likely not a problem with pip.\n",
            "  Preparing metadata (setup.py) ... \u001b[?25l\u001b[?25herror\n",
            "\u001b[1;31merror\u001b[0m: \u001b[1mmetadata-generation-failed\u001b[0m\n",
            "\n",
            "\u001b[31m×\u001b[0m Encountered error while generating package metadata.\n",
            "\u001b[31m╰─>\u001b[0m See above for output.\n",
            "\n",
            "\u001b[1;35mnote\u001b[0m: This is an issue with the package mentioned above, not pip.\n",
            "\u001b[1;36mhint\u001b[0m: See above for details.\n"
          ]
        }
      ],
      "source": [
        "!pip install -U mxnet-cu101==1.7.0\n",
        "!pip install d2l==1.0.0-beta0\n",
        "\n",
        "import keras.utils as image\n",
        "import numpy as np\n",
        "import keras\n",
        "from keras.preprocessing.image import ImageDataGenerator\n",
        "from keras.models import Sequential\n",
        "from keras.layers import Dense, Dropout, Activation, Flatten\n",
        "from keras.layers import Conv2D, MaxPooling2D\n",
        "import tensorflow \n",
        "from tensorflow.keras.models import Model as model\n",
        "import numpy as np\n",
        "\n",
        "import matplotlib.pyplot as plt\n",
        "\n",
        "from tensorflow.keras.layers import Dense,GlobalAveragePooling2D,Convolution2D,BatchNormalization\n",
        "from tensorflow.keras.layers import Flatten,MaxPooling2D,Dropout\n",
        "\n",
        "from tensorflow.keras.preprocessing import image\n",
        "from tensorflow.keras.preprocessing.image import ImageDataGenerator,img_to_array\n",
        "\n",
        "from tensorflow.keras.models import Model\n",
        "\n",
        "from tensorflow.keras.optimizers import Adam\n",
        "\n",
        "from tensorflow.keras.callbacks import ModelCheckpoint, ReduceLROnPlateau\n",
        "\n",
        "import warnings\n",
        "warnings.filterwarnings(\"ignore\")"
      ]
    },
    {
      "cell_type": "code",
      "source": [
        " num_classes = 5\n",
        " img_rows, img_cols = 256,256 #Batches\n",
        " input_shape = (3, img_rows, img_cols)\n",
        "#  if K.image_data_format() == 'channels_first':\n",
        "#      input_shape = (3, img_rows, img_cols)\n",
        "# else:\n",
        "#      input_shape = (img_rows, img_cols, 3)"
      ],
      "metadata": {
        "id": "fmjgFZ4ZWzqJ"
      },
      "execution_count": null,
      "outputs": []
    },
    {
      "cell_type": "code",
      "execution_count": null,
      "metadata": {
        "id": "A9Qdwn_lrELm"
      },
      "outputs": [],
      "source": [
        "#image classification model\n",
        "model = Sequential()\n",
        "model.add(Conv2D(32, (3, 3), input_shape=input_shape))\n",
        "model.add(Activation('relu'))\n",
        "model.add(MaxPooling2D(pool_size=(2, 2)))\n",
        "\n",
        "model.add(Conv2D(32, (3, 3)))\n",
        "model.add(Activation('relu'))\n",
        "model.add(MaxPooling2D(pool_size=(2, 2)))\n",
        "\n",
        "model.add(Conv2D(64, (3, 3)))\n",
        "model.add(Activation('relu'))\n",
        "model.add(MaxPooling2D(pool_size=(2, 2)))\n",
        "\n",
        "model.add(Flatten())\n",
        "model.add(Dense(64)) #Dense: To collect outputs from previous neuron and load it to next layer\n",
        "model.add(Activation('relu')) #rectified linear unit : to solve vanishing gradient issue\n",
        "model.add(Dropout(0.5))\n",
        "model.add(Dense(5))\n",
        "model.add(Activation('softmax')) #Activation function\n",
        "\n",
        "model.compile(loss='categorical_crossentropy', optimizer='adam', metrics=['accuracy'])"
      ]
    },
    {
      "cell_type": "code",
      "source": [
        "model.summary()"
      ],
      "metadata": {
        "id": "izrDkxp9OYFl"
      },
      "execution_count": null,
      "outputs": []
    },
    {
      "cell_type": "code",
      "source": [
        "train_datagen = ImageDataGenerator(\n",
        "    rescale = 1. / 255,\n",
        "    shear_range = 0.2, #rotating image to particular angle\n",
        "    zoom_range = 0.2,\n",
        "    horizontal_flip=True) \n",
        "\n",
        "test_datagen = ImageDataGenerator(rescale=1. / 255)\n",
        "\n",
        "train_generator = train_datagen.flow_from_directory(\n",
        "    '/content/drive/MyDrive/Total_Classification/train',target_size=(32, 32),batch_size=32,class_mode='categorical')\n",
        "\n",
        "validation_generator = test_datagen.flow_from_directory('/content/drive/MyDrive/Total_Classification/test',target_size=(32, 32),batch_size=32,class_mode='categorical')"
      ],
      "metadata": {
        "colab": {
          "base_uri": "https://localhost:8080/"
        },
        "id": "oNpmBBMKaoXo",
        "outputId": "936ef35d-8d1c-4b16-c3cd-0da847627337"
      },
      "execution_count": null,
      "outputs": [
        {
          "output_type": "stream",
          "name": "stdout",
          "text": [
            "Found 9829 images belonging to 5 classes.\n",
            "Found 1717 images belonging to 5 classes.\n"
          ]
        }
      ]
    },
    {
      "cell_type": "code",
      "source": [
        "model.fit_generator(train_generator,epochs=50,validation_data=validation_generator)"
      ],
      "metadata": {
        "colab": {
          "base_uri": "https://localhost:8080/"
        },
        "id": "wL4VpTDqawg2",
        "outputId": "035f32bd-dcdf-4c24-cf28-4ae906d3564d"
      },
      "execution_count": null,
      "outputs": [
        {
          "output_type": "stream",
          "name": "stdout",
          "text": [
            "Epoch 1/50\n",
            "308/308 [==============================] - 2885s 9s/step - loss: 0.6378 - accuracy: 0.7991 - val_loss: 1.5566 - val_accuracy: 0.2446\n",
            "Epoch 2/50\n",
            "308/308 [==============================] - 90s 291ms/step - loss: 0.3648 - accuracy: 0.8641 - val_loss: 1.1543 - val_accuracy: 0.5713\n",
            "Epoch 3/50\n",
            "308/308 [==============================] - 92s 300ms/step - loss: 0.2927 - accuracy: 0.8928 - val_loss: 0.8339 - val_accuracy: 0.7140\n",
            "Epoch 4/50\n",
            "308/308 [==============================] - 96s 311ms/step - loss: 0.2574 - accuracy: 0.9028 - val_loss: 0.8934 - val_accuracy: 0.6948\n",
            "Epoch 5/50\n",
            "308/308 [==============================] - 90s 291ms/step - loss: 0.2058 - accuracy: 0.9268 - val_loss: 0.6040 - val_accuracy: 0.8055\n",
            "Epoch 6/50\n",
            "308/308 [==============================] - 94s 305ms/step - loss: 0.1828 - accuracy: 0.9359 - val_loss: 0.6202 - val_accuracy: 0.7985\n",
            "Epoch 7/50\n",
            "308/308 [==============================] - 87s 281ms/step - loss: 0.1545 - accuracy: 0.9445 - val_loss: 0.5600 - val_accuracy: 0.8043\n",
            "Epoch 8/50\n",
            "308/308 [==============================] - 92s 299ms/step - loss: 0.1402 - accuracy: 0.9512 - val_loss: 0.4086 - val_accuracy: 0.8754\n",
            "Epoch 9/50\n",
            "308/308 [==============================] - 94s 306ms/step - loss: 0.1272 - accuracy: 0.9574 - val_loss: 0.3710 - val_accuracy: 0.8812\n",
            "Epoch 10/50\n",
            "308/308 [==============================] - 95s 307ms/step - loss: 0.1252 - accuracy: 0.9583 - val_loss: 0.3648 - val_accuracy: 0.8905\n",
            "Epoch 11/50\n",
            "308/308 [==============================] - 93s 303ms/step - loss: 0.1067 - accuracy: 0.9631 - val_loss: 0.4449 - val_accuracy: 0.8701\n",
            "Epoch 12/50\n",
            "308/308 [==============================] - 93s 303ms/step - loss: 0.0959 - accuracy: 0.9699 - val_loss: 0.4287 - val_accuracy: 0.8666\n",
            "Epoch 13/50\n",
            "308/308 [==============================] - 92s 299ms/step - loss: 0.0943 - accuracy: 0.9686 - val_loss: 0.6619 - val_accuracy: 0.8049\n",
            "Epoch 14/50\n",
            "308/308 [==============================] - 88s 286ms/step - loss: 0.0855 - accuracy: 0.9727 - val_loss: 0.3462 - val_accuracy: 0.8952\n",
            "Epoch 15/50\n",
            "308/308 [==============================] - 93s 301ms/step - loss: 0.0814 - accuracy: 0.9739 - val_loss: 0.6227 - val_accuracy: 0.8154\n",
            "Epoch 16/50\n",
            "308/308 [==============================] - 89s 289ms/step - loss: 0.0746 - accuracy: 0.9762 - val_loss: 0.3552 - val_accuracy: 0.8876\n",
            "Epoch 17/50\n",
            "308/308 [==============================] - 94s 303ms/step - loss: 0.0741 - accuracy: 0.9753 - val_loss: 0.2972 - val_accuracy: 0.9080\n",
            "Epoch 18/50\n",
            "308/308 [==============================] - 86s 281ms/step - loss: 0.0761 - accuracy: 0.9772 - val_loss: 0.4744 - val_accuracy: 0.8439\n",
            "Epoch 19/50\n",
            "308/308 [==============================] - 92s 298ms/step - loss: 0.0681 - accuracy: 0.9762 - val_loss: 0.5585 - val_accuracy: 0.8468\n",
            "Epoch 20/50\n",
            "308/308 [==============================] - 96s 312ms/step - loss: 0.0763 - accuracy: 0.9752 - val_loss: 0.5775 - val_accuracy: 0.8160\n",
            "Epoch 21/50\n",
            "308/308 [==============================] - 95s 307ms/step - loss: 0.0614 - accuracy: 0.9815 - val_loss: 0.3277 - val_accuracy: 0.8946\n",
            "Epoch 22/50\n",
            "308/308 [==============================] - 94s 305ms/step - loss: 0.0604 - accuracy: 0.9801 - val_loss: 0.5896 - val_accuracy: 0.8224\n",
            "Epoch 23/50\n",
            "308/308 [==============================] - 92s 300ms/step - loss: 0.0536 - accuracy: 0.9821 - val_loss: 0.3024 - val_accuracy: 0.9126\n",
            "Epoch 24/50\n",
            "308/308 [==============================] - 92s 299ms/step - loss: 0.0574 - accuracy: 0.9818 - val_loss: 0.3979 - val_accuracy: 0.8853\n",
            "Epoch 25/50\n",
            "308/308 [==============================] - 92s 300ms/step - loss: 0.0499 - accuracy: 0.9837 - val_loss: 0.5019 - val_accuracy: 0.8666\n",
            "Epoch 26/50\n",
            "308/308 [==============================] - 95s 308ms/step - loss: 0.0564 - accuracy: 0.9828 - val_loss: 0.3461 - val_accuracy: 0.8987\n",
            "Epoch 27/50\n",
            "308/308 [==============================] - 87s 283ms/step - loss: 0.0494 - accuracy: 0.9848 - val_loss: 0.4459 - val_accuracy: 0.8899\n",
            "Epoch 28/50\n",
            "308/308 [==============================] - 94s 304ms/step - loss: 0.0471 - accuracy: 0.9849 - val_loss: 0.4386 - val_accuracy: 0.8928\n",
            "Epoch 29/50\n",
            "308/308 [==============================] - 92s 299ms/step - loss: 0.0549 - accuracy: 0.9828 - val_loss: 0.3560 - val_accuracy: 0.8992\n",
            "Epoch 30/50\n",
            "308/308 [==============================] - 93s 301ms/step - loss: 0.0433 - accuracy: 0.9855 - val_loss: 0.4129 - val_accuracy: 0.8870\n",
            "Epoch 31/50\n",
            "308/308 [==============================] - 96s 310ms/step - loss: 0.0461 - accuracy: 0.9841 - val_loss: 0.7398 - val_accuracy: 0.8020\n",
            "Epoch 32/50\n",
            "308/308 [==============================] - 92s 299ms/step - loss: 0.0507 - accuracy: 0.9832 - val_loss: 0.3554 - val_accuracy: 0.9016\n",
            "Epoch 33/50\n",
            "308/308 [==============================] - 91s 296ms/step - loss: 0.0502 - accuracy: 0.9839 - val_loss: 0.5943 - val_accuracy: 0.8596\n",
            "Epoch 34/50\n",
            "308/308 [==============================] - 88s 286ms/step - loss: 0.0484 - accuracy: 0.9852 - val_loss: 0.4672 - val_accuracy: 0.8952\n",
            "Epoch 35/50\n",
            "308/308 [==============================] - 95s 308ms/step - loss: 0.0426 - accuracy: 0.9864 - val_loss: 0.5588 - val_accuracy: 0.8538\n",
            "Epoch 36/50\n",
            "308/308 [==============================] - 93s 301ms/step - loss: 0.0324 - accuracy: 0.9887 - val_loss: 0.7721 - val_accuracy: 0.8043\n",
            "Epoch 37/50\n",
            "308/308 [==============================] - 94s 304ms/step - loss: 0.0382 - accuracy: 0.9880 - val_loss: 0.3701 - val_accuracy: 0.9173\n",
            "Epoch 38/50\n",
            "308/308 [==============================] - 92s 299ms/step - loss: 0.0486 - accuracy: 0.9843 - val_loss: 0.4703 - val_accuracy: 0.8975\n",
            "Epoch 39/50\n",
            "308/308 [==============================] - 94s 305ms/step - loss: 0.0366 - accuracy: 0.9892 - val_loss: 0.3878 - val_accuracy: 0.9022\n",
            "Epoch 40/50\n",
            "308/308 [==============================] - 95s 310ms/step - loss: 0.0344 - accuracy: 0.9894 - val_loss: 0.5128 - val_accuracy: 0.8643\n",
            "Epoch 41/50\n",
            "308/308 [==============================] - 93s 300ms/step - loss: 0.0326 - accuracy: 0.9885 - val_loss: 0.3503 - val_accuracy: 0.9179\n",
            "Epoch 42/50\n",
            "308/308 [==============================] - 92s 299ms/step - loss: 0.0309 - accuracy: 0.9895 - val_loss: 0.3291 - val_accuracy: 0.9179\n",
            "Epoch 43/50\n",
            "308/308 [==============================] - 88s 285ms/step - loss: 0.0403 - accuracy: 0.9890 - val_loss: 0.5002 - val_accuracy: 0.8596\n",
            "Epoch 44/50\n",
            "308/308 [==============================] - 93s 302ms/step - loss: 0.0268 - accuracy: 0.9921 - val_loss: 0.4285 - val_accuracy: 0.8987\n",
            "Epoch 45/50\n",
            "308/308 [==============================] - 98s 318ms/step - loss: 0.0342 - accuracy: 0.9895 - val_loss: 0.2753 - val_accuracy: 0.9359\n",
            "Epoch 46/50\n",
            "308/308 [==============================] - 93s 302ms/step - loss: 0.0305 - accuracy: 0.9906 - val_loss: 0.5866 - val_accuracy: 0.8742\n",
            "Epoch 47/50\n",
            "308/308 [==============================] - 88s 285ms/step - loss: 0.0390 - accuracy: 0.9890 - val_loss: 0.5907 - val_accuracy: 0.8742\n",
            "Epoch 48/50\n",
            "308/308 [==============================] - 92s 299ms/step - loss: 0.0353 - accuracy: 0.9891 - val_loss: 0.3959 - val_accuracy: 0.9150\n",
            "Epoch 49/50\n",
            "308/308 [==============================] - 94s 305ms/step - loss: 0.0328 - accuracy: 0.9891 - val_loss: 0.6217 - val_accuracy: 0.8643\n",
            "Epoch 50/50\n",
            "308/308 [==============================] - 92s 298ms/step - loss: 0.0278 - accuracy: 0.9914 - val_loss: 0.4215 - val_accuracy: 0.9115\n"
          ]
        },
        {
          "output_type": "execute_result",
          "data": {
            "text/plain": [
              "<keras.callbacks.History at 0x7f9bc8f93490>"
            ]
          },
          "metadata": {},
          "execution_count": 17
        }
      ]
    },
    {
      "cell_type": "code",
      "source": [
        "model.save(\"/content/drive/MyDrive/Model_Save/classification.h5\")"
      ],
      "metadata": {
        "id": "JGqELdLGB-EY"
      },
      "execution_count": null,
      "outputs": []
    },
    {
      "cell_type": "code",
      "source": [
        "from keras.models import load_model\n",
        "classifier=load_model(\"/content/drive/MyDrive/Model_Save/classification.h5\")"
      ],
      "metadata": {
        "id": "Vo0-ERfZC1a6"
      },
      "execution_count": null,
      "outputs": []
    },
    {
      "cell_type": "code",
      "execution_count": null,
      "metadata": {
        "colab": {
          "base_uri": "https://localhost:8080/"
        },
        "id": "ymQ34Hf-rEJR",
        "outputId": "cefa0ac4-cc16-47ae-f347-32b5fb41cd37"
      },
      "outputs": [
        {
          "output_type": "stream",
          "name": "stdout",
          "text": [
            "1/1 [==============================] - 0s 41ms/step\n",
            "Classified image:  Grape\n"
          ]
        }
      ],
      "source": [
        "img = image.load_img('/content/drive/MyDrive/Datasets/Grape/test/Grape___Black_rot/003d09ef-e16c-4e8a-badf-847d46cb3dc0___FAM_B.Rot 3184.JPG', target_size=(256,256))\n",
        "x = image.img_to_array(img)\n",
        "x = x.reshape((1,) + x.shape)\n",
        "x = x / 255.\n",
        "predictions = classifier.predict(x)\n",
        "#print(predictions)\n",
        "class_index = np.argmax(predictions)\n",
        "class_dictionary = {0: \"Corn and Maize\", 1: \"Cotton\", 2: \"Grape\", 3: \"Potato\", 4: \"Tomato\"}\n",
        "classification_result = (class_dictionary[class_index])\n",
        "print(\"Classified image: \", classification_result)"
      ]
    }
  ],
  "metadata": {
    "accelerator": "TPU",
    "colab": {
      "provenance": [],
      "mount_file_id": "1hGp7HcibPCIEFSsOzOnM7CK3RA0oR2zt",
      "authorship_tag": "ABX9TyPAhjOs0tL9yNqmDom0e/YJ",
      "include_colab_link": true
    },
    "gpuClass": "standard",
    "kernelspec": {
      "display_name": "Python 3",
      "name": "python3"
    },
    "language_info": {
      "name": "python"
    }
  },
  "nbformat": 4,
  "nbformat_minor": 0
}