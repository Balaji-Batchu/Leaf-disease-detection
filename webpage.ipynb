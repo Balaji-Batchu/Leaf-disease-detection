{
  "cells": [
    {
      "cell_type": "markdown",
      "metadata": {
        "id": "view-in-github",
        "colab_type": "text"
      },
      "source": [
        "<a href=\"https://colab.research.google.com/github/Balaji507/Leaf-disease-detection/blob/main/webpage.ipynb\" target=\"_parent\"><img src=\"https://colab.research.google.com/assets/colab-badge.svg\" alt=\"Open In Colab\"/></a>"
      ]
    },
    {
      "cell_type": "code",
      "execution_count": null,
      "metadata": {
        "colab": {
          "base_uri": "https://localhost:8080/"
        },
        "id": "POit_ZXvgeDU",
        "outputId": "bb300423-1bc1-48c0-9cbd-73d597aac88f"
      },
      "outputs": [
        {
          "name": "stdout",
          "output_type": "stream",
          "text": [
            "Drive already mounted at /content/drive; to attempt to forcibly remount, call drive.mount(\"/content/drive\", force_remount=True).\n"
          ]
        }
      ],
      "source": [
        "from google.colab import drive\n",
        "drive.mount('/content/drive')"
      ]
    },
    {
      "cell_type": "code",
      "execution_count": null,
      "metadata": {
        "colab": {
          "base_uri": "https://localhost:8080/"
        },
        "id": "T4APdrs_xlhu",
        "outputId": "8f652ff6-af96-492a-8905-abe5dedcf553"
      },
      "outputs": [
        {
          "name": "stdout",
          "output_type": "stream",
          "text": [
            "\u001b[2K     \u001b[90m━━━━━━━━━━━━━━━━━━━━━━━━━━━━━━━━━━━━━━━━\u001b[0m \u001b[32m9.7/9.7 MB\u001b[0m \u001b[31m68.5 MB/s\u001b[0m eta \u001b[36m0:00:00\u001b[0m\n",
            "\u001b[2K     \u001b[90m━━━━━━━━━━━━━━━━━━━━━━━━━━━━━━━━━━━━━━\u001b[0m \u001b[32m164.8/164.8 kB\u001b[0m \u001b[31m15.1 MB/s\u001b[0m eta \u001b[36m0:00:00\u001b[0m\n",
            "\u001b[2K     \u001b[90m━━━━━━━━━━━━━━━━━━━━━━━━━━━━━━━━━━━━━━\u001b[0m \u001b[32m184.3/184.3 kB\u001b[0m \u001b[31m19.3 MB/s\u001b[0m eta \u001b[36m0:00:00\u001b[0m\n",
            "\u001b[2K     \u001b[90m━━━━━━━━━━━━━━━━━━━━━━━━━━━━━━━━━━━━━━━━\u001b[0m \u001b[32m82.1/82.1 kB\u001b[0m \u001b[31m7.7 MB/s\u001b[0m eta \u001b[36m0:00:00\u001b[0m\n",
            "\u001b[2K     \u001b[90m━━━━━━━━━━━━━━━━━━━━━━━━━━━━━━━━━━━━━━━━\u001b[0m \u001b[32m4.8/4.8 MB\u001b[0m \u001b[31m62.8 MB/s\u001b[0m eta \u001b[36m0:00:00\u001b[0m\n",
            "\u001b[?25h  Preparing metadata (setup.py) ... \u001b[?25l\u001b[?25hdone\n",
            "\u001b[2K     \u001b[90m━━━━━━━━━━━━━━━━━━━━━━━━━━━━━━━━━━━━━━━━\u001b[0m \u001b[32m62.7/62.7 kB\u001b[0m \u001b[31m3.6 MB/s\u001b[0m eta \u001b[36m0:00:00\u001b[0m\n",
            "\u001b[?25h  Building wheel for validators (setup.py) ... \u001b[?25l\u001b[?25hdone\n"
          ]
        }
      ],
      "source": [
        "!pip install streamlit -q"
      ]
    },
    {
      "cell_type": "code",
      "execution_count": null,
      "metadata": {
        "colab": {
          "base_uri": "https://localhost:8080/"
        },
        "id": "xIzWkg4-xGtg",
        "outputId": "e57df3af-e1bd-4275-db7d-b1b49d7dee19"
      },
      "outputs": [
        {
          "name": "stdout",
          "output_type": "stream",
          "text": [
            "Writing app.py\n"
          ]
        }
      ],
      "source": [
        "%%writefile app.py\n",
        "import numpy as np\n",
        "import pandas as pd\n",
        "from keras.models import load_model\n",
        "from keras.preprocessing import image\n",
        "import tensorflow as tf\n",
        "from tensorflow.keras.preprocessing.image import load_img, img_to_array# load model\n",
        "import streamlit as st\n",
        "import cv2\n",
        "\n",
        "\n",
        "st.set_page_config(page_title='Leaf detector web app')\n",
        "\n",
        "st.markdown(\"\"\"\n",
        "<style> \n",
        "    footer {visibility: hidden;}\n",
        "</style>\n",
        "\"\"\", unsafe_allow_html=True)\n",
        "\n",
        "st.set_option('deprecation.showfileUploaderEncoding', False)\n",
        "\n",
        "st.title(\"\"\"***Leaf Disease detector***\"\"\")\n",
        "st.write(\"This is a simple image classification web app to predict \")\n",
        "\n",
        "file = st.file_uploader(\"Please upload an image png or jpg or jpeg file\", type=[\"png\",\"jpg\",\"jpeg\"])\n",
        "\n",
        "\n",
        "model = tf.keras.models.load_model('/content/drive/MyDrive/Model_Save/classification.h5')\n",
        "\n",
        "\n",
        "if file is None:\n",
        "    st.text(\"You haven't uploaded a png or jpg or jpeg image file\")\n",
        "else:\n",
        "    state = st.session_state\n",
        "\n",
        "    def detection_path(classification_result):\n",
        "      classification_result= classification_result.lower()\n",
        "      model_path,det_dictionary=\"\",\"\"\n",
        "      if classification_result=='corn and maize':\n",
        "       model_path = \"/content/drive/MyDrive/Model_Save/corn_and_maize.h5\"\n",
        "       det_dictionary = {0: \"blight\", 1: \"common rust\", 2: \"gray leaf spot\", 3: \"healthy\"}\n",
        "\n",
        "      elif classification_result=='cotton':\n",
        "        model_path = \"/content/drive/MyDrive/Model_Save/cotton.h5\"\n",
        "        det_dictionary = {0: \"Black root rot\", 1: \"Lint contamination\", 2: \"Healthy\", 3: \"Healthy\"}\n",
        "\n",
        "      elif classification_result=='grape':\n",
        "        #print('grape')\n",
        "        model_path = \"/content/drive/MyDrive/Model_Save/grape.h5\"\n",
        "        det_dictionary = {0: \"Black rot(grape)\", 1: \"Grape Esca (Black Measles)\", 2: \"leaf blight (Isariopsis Leaf Spot)\", 3: \"healthy\"}\n",
        "\n",
        "      elif classification_result=='potato':\n",
        "        model_path = \"/content/drive/MyDrive/Model_Save/potato.h5\"\n",
        "        det_dictionary = {0: \"Early blight\", 1: \"Late blight\", 2: \"Healthy\"}\n",
        "\n",
        "      elif classification_result=='tomato':\n",
        "        model_path = \"/content/drive/MyDrive/Model_Save/tomato.h5\"\n",
        "        det_dictionary = {0: \"bacterial spot\", 1: \"Early Blight\", 2: \"Healthy\", 3: \"Late Blight\", 4: \"Leaf Mold\", 5: \"Septoria leaf spot\", 6: \"Spider mites\", 7: \"Target spot\", 8: \"Mosaic virus\", 9: \"Yellow leaf curl virus\"}\n",
        "      return model_path,det_dictionary\n",
        "\n",
        "    def preprocess_image(img):\n",
        "        # Convert to grayscale\n",
        "        img_gray = cv2.cvtColor(img, cv2.COLOR_BGR2GRAY)\n",
        "        # Apply histogram equalization\n",
        "        img_eq = cv2.equalizeHist(img_gray)\n",
        "        # Apply bilateral filter\n",
        "        img_filtered = cv2.bilateralFilter(img_eq, 9, 75, 75)\n",
        "        # Apply binary thresholding\n",
        "        _, img_thresh = cv2.threshold(img_filtered, 150, 255, cv2.THRESH_BINARY)\n",
        "        # Convert back to color image\n",
        "        img_processed = cv2.cvtColor(img_thresh, cv2.COLOR_GRAY2RGB)\n",
        "        return img_processed\n",
        "    \n",
        "    \n",
        "    def import_and_predict(image_data, model):\n",
        "        img = image_data.resize((32, 32))\n",
        "        test_image = img_to_array(img)/255\n",
        "        test_image = np.expand_dims(test_image, axis = 0)\n",
        "        result = np.argmax(np.round(model.predict(test_image, verbose=0)))\n",
        "        result_acc = np.round(model.predict(test_image, verbose=0))\n",
        "        print(result_acc)\n",
        "        class_dictionary = {0: \"Corn and Maize\", 1: \"Cotton\", 2: \"Grape\", 3: \"Potato\", 4: \"Tomato\"}\n",
        "        classification_result1 = class_dictionary[result]\n",
        "        print(classification_result1)\n",
        "        model_path,det_dictionary=detection_path(classification_result1)\n",
        "      \n",
        "        test_image = img_to_array(image_data)/255\n",
        "        test_image = np.expand_dims(test_image, axis = 0)\n",
        "        detection_model = tf.keras.models.load_model(model_path)\n",
        "        disease_result = np.argmax(np.round(detection_model.predict(test_image,verbose=0)))\n",
        "        detection_result = det_dictionary[disease_result]\n",
        "        return classification_result1,detection_result,result_acc,disease_result\n",
        "\n",
        "\n",
        "    image_file = load_img(file,target_size=(256,256))\n",
        "\n",
        "    prediction = import_and_predict(image_file, model)\n",
        "    styled_text = f\"<h2 style='text-align: center; color: orange;'>Classified Image type: {prediction[0]}</h2>\"\n",
        "    st.write(styled_text, unsafe_allow_html=True)\n",
        "\n",
        "    styled_text = f\"<h2 style='text-align: center; color: green;'>Classified Disease type: {prediction[1]}</h2>\"\n",
        "    st.write(styled_text, unsafe_allow_html=True)\n",
        "    st.balloons()"
      ]
    },
    {
      "cell_type": "code",
      "execution_count": null,
      "metadata": {
        "colab": {
          "background_save": true,
          "base_uri": "https://localhost:8080/"
        },
        "id": "-bgDYRsCxo8w",
        "outputId": "56f1f957-0c83-45d1-ea0b-f606fdf8c243"
      },
      "outputs": [
        {
          "name": "stdout",
          "output_type": "stream",
          "text": [
            "\u001b[K\u001b[?25hnpx: installed 22 in 4.72s\n",
            "your url is: https://leafdetector.loca.lt\n",
            "\n",
            "Collecting usage statistics. To deactivate, set browser.gatherUsageStats to False.\n",
            "\u001b[0m\n",
            "\u001b[0m\n",
            "\u001b[34m\u001b[1m  You can now view your Streamlit app in your browser.\u001b[0m\n",
            "\u001b[0m\n",
            "\u001b[34m  Network URL: \u001b[0m\u001b[1mhttp://172.28.0.12:8501\u001b[0m\n",
            "\u001b[34m  External URL: \u001b[0m\u001b[1mhttp://34.82.209.81:8501\u001b[0m\n",
            "\u001b[0m\n",
            "2023-04-21 07:35:37.740322: I tensorflow/core/platform/cpu_feature_guard.cc:182] This TensorFlow binary is optimized to use available CPU instructions in performance-critical operations.\n",
            "To enable the following instructions: AVX2 FMA, in other operations, rebuild TensorFlow with the appropriate compiler flags.\n",
            "2023-04-21 07:35:39.859488: W tensorflow/compiler/tf2tensorrt/utils/py_utils.cc:38] TF-TRT Warning: Could not find TensorRT\n",
            "[[0. 0. 0. 1. 0.]]\n",
            "Potato\n"
          ]
        }
      ],
      "source": [
        "!streamlit run app.py &npx localtunnel --port 8501 --subdomain leafdetector"
      ]
    }
  ],
  "metadata": {
    "colab": {
      "provenance": [],
      "mount_file_id": "1oCzzo-UH54OIieloo8TTwrEwr5fNTkNw",
      "authorship_tag": "ABX9TyOzH71+x9V+QYzLlMUNxEZw",
      "include_colab_link": true
    },
    "kernelspec": {
      "display_name": "Python 3",
      "name": "python3"
    },
    "language_info": {
      "name": "python"
    }
  },
  "nbformat": 4,
  "nbformat_minor": 0
}