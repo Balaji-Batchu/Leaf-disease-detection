{
  "cells": [
    {
      "cell_type": "markdown",
      "metadata": {
        "id": "view-in-github",
        "colab_type": "text"
      },
      "source": [
        "<a href=\"https://colab.research.google.com/github/Balaji507/Leaf-disease-detection/blob/main/4_Potato.ipynb\" target=\"_parent\"><img src=\"https://colab.research.google.com/assets/colab-badge.svg\" alt=\"Open In Colab\"/></a>"
      ]
    },
    {
      "cell_type": "code",
      "execution_count": null,
      "metadata": {
        "colab": {
          "base_uri": "https://localhost:8080/"
        },
        "id": "22JZa0MLPpxf",
        "outputId": "a8b980f8-f5de-4293-c7ae-b90df77dcef4"
      },
      "outputs": [
        {
          "output_type": "stream",
          "name": "stdout",
          "text": [
            "Mounted at /content/drive\n"
          ]
        }
      ],
      "source": [
        "from google.colab import drive\n",
        "drive.mount('/content/drive')"
      ]
    },
    {
      "cell_type": "code",
      "execution_count": null,
      "metadata": {
        "id": "g9FLOR-QPxli"
      },
      "outputs": [],
      "source": [
        "!pip install -U mxnet-cu101==1.7.0\n",
        "!pip install d2l==1.0.0-beta0\n",
        "\n",
        "import keras.utils as image\n",
        "import numpy as np\n",
        "import keras\n",
        "from keras.preprocessing.image import ImageDataGenerator\n",
        "from keras.models import Sequential\n",
        "from keras.layers import Dense, Dropout, Activation, Flatten\n",
        "from keras.layers import Conv2D, MaxPooling2D\n",
        "from keras import backend as K\n",
        "import tensorflow \n",
        "import keras\n",
        "from tensorflow.keras.models import Model as model\n",
        "\n",
        "import pandas as pd\n",
        "import numpy as np\n",
        "import os\n",
        "import keras\n",
        "import random\n",
        "import math\n",
        "\n",
        "\n",
        "import matplotlib.pyplot as plt\n",
        "\n",
        "from tensorflow.keras.layers import Dense,GlobalAveragePooling2D,Convolution2D,BatchNormalization\n",
        "from tensorflow.keras.layers import Flatten,MaxPooling2D,Dropout\n",
        "\n",
        "from tensorflow.keras.preprocessing import image\n",
        "from tensorflow.keras.preprocessing.image import ImageDataGenerator,img_to_array\n",
        "\n",
        "from tensorflow.keras.models import Model\n",
        "\n",
        "from tensorflow.keras.optimizers import Adam\n",
        "\n",
        "from tensorflow.keras.callbacks import ModelCheckpoint, ReduceLROnPlateau\n",
        "\n",
        "import warnings\n",
        "warnings.filterwarnings(\"ignore\")"
      ]
    },
    {
      "cell_type": "code",
      "execution_count": null,
      "metadata": {
        "id": "8sVEuUu_P1ha"
      },
      "outputs": [],
      "source": [
        "classification_result='potato'"
      ]
    },
    {
      "cell_type": "code",
      "execution_count": null,
      "metadata": {
        "id": "bPjfQ-JwP2DZ"
      },
      "outputs": [],
      "source": [
        "if classification_result=='corn and maize':\n",
        "  train_path=\"/content/drive/MyDrive/Datasets/Corn_and_Maize/train\"\n",
        "  test_path=\"/content/drive/MyDrive/Datasets/Corn_and_Maize/test\"\n",
        "  det_dictionary = {0: \"blight\", 1: \"common rust\", 2: \"gray leaf spot\", 3: \"healthy\"}\n",
        "elif classification_result=='cotton':\n",
        "  train_path=\"/content/drive/MyDrive/Datasets/Cotton/train\"\n",
        "  test_path=\"/content/drive/MyDrive/Datasets/Cotton/test\"\n",
        "  det_dictionary = {0: \"Black root rot\", 1: \"Lint contamination\", 2: \"Healthy\", 3: \"Healthy\"}\n",
        "elif classification_result=='grape':\n",
        "  train_path=\"/content/drive/MyDrive/Datasets/Grape/train\"\n",
        "  test_path=\"/content/drive/MyDrive/Datasets/Grape/test\"\n",
        "  det_dictionary = {0: \"Black rot(grape)\", 1: \"Grape Esca (Black Measles)\", 2: \"healthy\", 3: \"leaf blight (Isariopsis Leaf Spot)\"}\n",
        "elif classification_result=='potato':\n",
        "  train_path=\"/content/drive/MyDrive/Datasets/Potato/Train\"\n",
        "  test_path=\"/content/drive/MyDrive/Datasets/Potato/Test\"\n",
        "  det_dictionary = {0: \"Early blight\", 1: \"Late blight\", 2: \"Healthy\"}\n",
        "elif classification_result=='tomato':\n",
        "  train_path=\"/content/drive/MyDrive/Datasets/Tomato/train\"\n",
        "  test_path=\"/content/drive/MyDrive/Datasets/Tomato/test\"\n",
        "  det_dictionary = {0: \"bacterial spot\", 1: \"Early Blight\", 2: \"Healthy\", 3: \"Late Blight\", 4: \"Leaf Mold\", 5: \"Septoria leaf spot\", 6: \"Spider mites\", 7: \"Target spot\", 8: \"Mosaic virus\", 9: \"Yellow leaf curl virus\"}"
      ]
    },
    {
      "cell_type": "code",
      "execution_count": null,
      "metadata": {
        "id": "cQZHEBNaP5HC",
        "colab": {
          "base_uri": "https://localhost:8080/"
        },
        "outputId": "e2321723-c443-46e4-c2d2-72237178d20e"
      },
      "outputs": [
        {
          "output_type": "stream",
          "name": "stdout",
          "text": [
            "Found 900 images belonging to 3 classes.\n",
            "Found 300 images belonging to 3 classes.\n"
          ]
        }
      ],
      "source": [
        "trdata = ImageDataGenerator(rescale = 1./255,\n",
        "                                   shear_range = 0.2,\n",
        "                                   zoom_range = 0.2,\n",
        "                                   horizontal_flip = True)\n",
        "\n",
        "tsdata = ImageDataGenerator(rescale = 1./255)\n",
        "traindata = trdata.flow_from_directory(directory=train_path,target_size=(256,256),batch_size = 15,class_mode = 'categorical')\n",
        "testdata = tsdata.flow_from_directory(directory=test_path, target_size=(256,256),batch_size = 15,class_mode = 'categorical')"
      ]
    },
    {
      "cell_type": "code",
      "execution_count": null,
      "metadata": {
        "id": "88lvZUUQP53A",
        "colab": {
          "base_uri": "https://localhost:8080/"
        },
        "outputId": "031735eb-98b9-4468-ae60-9a05ca8826ae"
      },
      "outputs": [
        {
          "output_type": "stream",
          "name": "stdout",
          "text": [
            "3\n"
          ]
        }
      ],
      "source": [
        "num_classes=len(traindata.class_indices)\n",
        "print(num_classes)"
      ]
    },
    {
      "cell_type": "code",
      "execution_count": null,
      "metadata": {
        "id": "yJuygJAeP71Z"
      },
      "outputs": [],
      "source": [
        "#disease detection model\n",
        "model = Sequential()\n",
        "model.add(Conv2D(32, (3, 3), activation='relu', input_shape=(256, 256, 3)))\n",
        "model.add(MaxPooling2D(pool_size=(2, 2)))\n",
        "model.add(Conv2D(64, (3, 3), activation='relu'))\n",
        "model.add(MaxPooling2D(pool_size=(2, 2)))\n",
        "model.add(Conv2D(128, (3, 3), activation='relu'))\n",
        "model.add(MaxPooling2D(pool_size=(2, 2)))\n",
        "model.add(Conv2D(256, (3, 3), activation='relu'))\n",
        "model.add(MaxPooling2D(pool_size=(2, 2)))\n",
        "model.add(Flatten())\n",
        "model.add(Dense(512, activation='relu'))\n",
        "model.add(Dropout(0.5)\n",
        "model.add(Dense(num_classes, activation='softmax'))\n",
        "model.compile(loss='categorical_crossentropy', optimizer='adam', metrics=['accuracy'])"
      ]
    },
    {
      "cell_type": "code",
      "execution_count": null,
      "metadata": {
        "id": "QUyzH-MqQCYg",
        "colab": {
          "base_uri": "https://localhost:8080/"
        },
        "outputId": "69b119a5-a436-4809-e23a-fff6806df072"
      },
      "outputs": [
        {
          "output_type": "stream",
          "name": "stdout",
          "text": [
            "Model: \"sequential\"\n",
            "_________________________________________________________________\n",
            " Layer (type)                Output Shape              Param #   \n",
            "=================================================================\n",
            " conv2d (Conv2D)             (None, 254, 254, 32)      896       \n",
            "                                                                 \n",
            " max_pooling2d (MaxPooling2D  (None, 127, 127, 32)     0         \n",
            " )                                                               \n",
            "                                                                 \n",
            " conv2d_1 (Conv2D)           (None, 125, 125, 64)      18496     \n",
            "                                                                 \n",
            " max_pooling2d_1 (MaxPooling  (None, 62, 62, 64)       0         \n",
            " 2D)                                                             \n",
            "                                                                 \n",
            " conv2d_2 (Conv2D)           (None, 60, 60, 128)       73856     \n",
            "                                                                 \n",
            " max_pooling2d_2 (MaxPooling  (None, 30, 30, 128)      0         \n",
            " 2D)                                                             \n",
            "                                                                 \n",
            " conv2d_3 (Conv2D)           (None, 28, 28, 256)       295168    \n",
            "                                                                 \n",
            " max_pooling2d_3 (MaxPooling  (None, 14, 14, 256)      0         \n",
            " 2D)                                                             \n",
            "                                                                 \n",
            " flatten (Flatten)           (None, 50176)             0         \n",
            "                                                                 \n",
            " dense (Dense)               (None, 512)               25690624  \n",
            "                                                                 \n",
            " dropout (Dropout)           (None, 512)               0         \n",
            "                                                                 \n",
            " dense_1 (Dense)             (None, 3)                 1539      \n",
            "                                                                 \n",
            "=================================================================\n",
            "Total params: 26,080,579\n",
            "Trainable params: 26,080,579\n",
            "Non-trainable params: 0\n",
            "_________________________________________________________________\n"
          ]
        }
      ],
      "source": [
        "model.compile(optimizer='Adam',loss='categorical_crossentropy',metrics=['accuracy'])\n",
        "model.summary()"
      ]
    },
    {
      "cell_type": "code",
      "source": [
        "history = model.fit_generator(traindata,epochs=12,validation_data=testdata)"
      ],
      "metadata": {
        "colab": {
          "base_uri": "https://localhost:8080/"
        },
        "id": "1aQZyoXeVqj_",
        "outputId": "f19d9dfc-4df5-4a9e-aa98-05d03492b926"
      },
      "execution_count": null,
      "outputs": [
        {
          "output_type": "stream",
          "name": "stdout",
          "text": [
            "Epoch 1/12\n",
            "60/60 [==============================] - 611s 10s/step - loss: 0.8809 - accuracy: 0.5667 - val_loss: 0.2803 - val_accuracy: 0.8900\n",
            "Epoch 2/12\n",
            "60/60 [==============================] - 242s 4s/step - loss: 0.3477 - accuracy: 0.8611 - val_loss: 0.1606 - val_accuracy: 0.9300\n",
            "Epoch 3/12\n",
            "60/60 [==============================] - 227s 4s/step - loss: 0.3608 - accuracy: 0.8489 - val_loss: 0.2404 - val_accuracy: 0.9133\n",
            "Epoch 4/12\n",
            "60/60 [==============================] - 229s 4s/step - loss: 0.2777 - accuracy: 0.8933 - val_loss: 0.2934 - val_accuracy: 0.8767\n",
            "Epoch 5/12\n",
            "60/60 [==============================] - 236s 4s/step - loss: 0.2007 - accuracy: 0.9278 - val_loss: 0.2596 - val_accuracy: 0.8833\n",
            "Epoch 6/12\n",
            "60/60 [==============================] - 230s 4s/step - loss: 0.2456 - accuracy: 0.8956 - val_loss: 0.1264 - val_accuracy: 0.9433\n",
            "Epoch 7/12\n",
            "60/60 [==============================] - 234s 4s/step - loss: 0.2759 - accuracy: 0.8922 - val_loss: 0.1919 - val_accuracy: 0.9033\n",
            "Epoch 8/12\n",
            "60/60 [==============================] - 227s 4s/step - loss: 0.1773 - accuracy: 0.9322 - val_loss: 0.1150 - val_accuracy: 0.9600\n",
            "Epoch 9/12\n",
            "60/60 [==============================] - 231s 4s/step - loss: 0.1627 - accuracy: 0.9344 - val_loss: 0.2877 - val_accuracy: 0.9100\n",
            "Epoch 10/12\n",
            "60/60 [==============================] - 228s 4s/step - loss: 0.2289 - accuracy: 0.9267 - val_loss: 0.2370 - val_accuracy: 0.8800\n",
            "Epoch 11/12\n",
            "60/60 [==============================] - 223s 4s/step - loss: 0.3311 - accuracy: 0.8844 - val_loss: 0.3607 - val_accuracy: 0.8433\n",
            "Epoch 12/12\n",
            "60/60 [==============================] - 227s 4s/step - loss: 0.2103 - accuracy: 0.9200 - val_loss: 0.1252 - val_accuracy: 0.9600\n"
          ]
        }
      ]
    },
    {
      "cell_type": "code",
      "source": [
        "model.save(\"/content/drive/MyDrive/Model_Save/potato.h5\")"
      ],
      "metadata": {
        "id": "FNFuoBRZnXjj"
      },
      "execution_count": null,
      "outputs": []
    },
    {
      "cell_type": "code",
      "source": [
        "from keras.models import load_model\n",
        "classifier=load_model(\"/content/drive/MyDrive/Model_Save/potato.h5\")"
      ],
      "metadata": {
        "id": "lR092tvRna9r"
      },
      "execution_count": null,
      "outputs": []
    },
    {
      "cell_type": "code",
      "source": [
        "img = image.load_img('/content/drive/MyDrive/Datasets/Potato/Test/Potato___Late_blight/55987838-6174-4182-be76-78ddd50890fb___RS_LB 4714.JPG', target_size=(256,256))\n",
        "x = image.img_to_array(img)\n",
        "x = x.reshape((1,) + x.shape)\n",
        "x = x / 255.\n",
        "predictions = classifier.predict(x)\n",
        "class_index = predictions\n",
        "class_index1 = np.argmax(predictions)\n",
        "print(class_index)\n",
        "detection_result = (det_dictionary[class_index1])\n",
        "print(detection_result)"
      ],
      "metadata": {
        "colab": {
          "base_uri": "https://localhost:8080/"
        },
        "id": "8CBEsfWbnfZT",
        "outputId": "6666e1f0-4d31-4ae7-9e8f-167f014dbe05"
      },
      "execution_count": null,
      "outputs": [
        {
          "output_type": "stream",
          "name": "stdout",
          "text": [
            "1/1 [==============================] - 0s 76ms/step\n",
            "[[0.0457555  0.9515235  0.00272114]]\n",
            "Late blight\n"
          ]
        }
      ]
    },
    {
      "cell_type": "code",
      "source": [
        "import matplotlib.pyplot as plt\n",
        "plt.plot(history.history['accuracy'])\n",
        "plt.plot(history.history['val_accuracy'])\n",
        "plt.title('Model accuracy')\n",
        "plt.ylabel('Accuracy')\n",
        "plt.xlabel('Epoch')\n",
        "plt.legend(['Train', 'Test'], loc='upper left')\n",
        "plt.show()\n",
        "plt.plot(history.history['loss'])\n",
        "plt.plot(history.history['val_loss'])\n",
        "plt.title('Model loss')\n",
        "plt.ylabel('Loss')\n",
        "plt.xlabel('Epoch')\n",
        "plt.legend(['Train', 'Test'], loc='upper left')\n",
        "plt.show()"
      ],
      "metadata": {
        "colab": {
          "base_uri": "https://localhost:8080/",
          "height": 573
        },
        "id": "ajDvL0SOoFi0",
        "outputId": "1ee95b47-bd52-4e94-dece-924626970bc7"
      },
      "execution_count": null,
      "outputs": [
        {
          "output_type": "display_data",
          "data": {
            "text/plain": [
              "<Figure size 432x288 with 1 Axes>"
            ],
            "image/png": "[encoded data removed]"
          },
          "metadata": {
            "needs_background": "light"
          }
        },
        {
          "output_type": "display_data",
          "data": {
            "text/plain": [
              "<Figure size 432x288 with 1 Axes>"
            ],
            "image/png": "[encoded data removed]"
          },
          "metadata": {
            "needs_background": "light"
          }
        }
      ]
    }
  ],
  "metadata": {
    "colab": {
      "provenance": [],
      "authorship_tag": "ABX9TyNe+asYENSMqnKcG0HYDYdQ",
      "include_colab_link": true
    },
    "kernelspec": {
      "display_name": "Python 3",
      "name": "python3"
    },
    "language_info": {
      "name": "python"
    }
  },
  "nbformat": 4,
  "nbformat_minor": 0
}