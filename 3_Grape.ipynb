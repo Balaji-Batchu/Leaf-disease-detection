{
  "nbformat": 4,
  "nbformat_minor": 0,
  "metadata": {
    "colab": {
      "provenance": [],
      "authorship_tag": "ABX9TyNHXhEf0nWmPQh4MxVnVbwM",
      "include_colab_link": true
    },
    "kernelspec": {
      "name": "python3",
      "display_name": "Python 3"
    },
    "language_info": {
      "name": "python"
    }
  },
  "cells": [
    {
      "cell_type": "markdown",
      "metadata": {
        "id": "view-in-github",
        "colab_type": "text"
      },
      "source": [
        "<a href=\"https://colab.research.google.com/github/Balaji507/Leaf-disease-detection/blob/main/3_Grape.ipynb\" target=\"_parent\"><img src=\"https://colab.research.google.com/assets/colab-badge.svg\" alt=\"Open In Colab\"/></a>"
      ]
    },
    {
      "cell_type": "code",
      "execution_count": null,
      "metadata": {
        "colab": {
          "base_uri": "https://localhost:8080/"
        },
        "id": "0N2g0Wq6j01j",
        "outputId": "fa5dad9c-2a97-43bd-9be4-645e4a8b3b83"
      },
      "outputs": [
        {
          "output_type": "stream",
          "name": "stdout",
          "text": [
            "Mounted at /content/drive\n"
          ]
        }
      ],
      "source": [
        "from google.colab import drive\n",
        "drive.mount('/content/drive')"
      ]
    },
    {
      "cell_type": "code",
      "source": [
        "!pip install -U mxnet-cu101==1.7.0\n",
        "!pip install d2l==1.0.0-beta0\n",
        "\n",
        "from tensorflow.keras.models import Sequential\n",
        "from tensorflow.keras.layers import Conv2D, MaxPooling2D, Flatten, Dense, Dropout\n",
        "import keras.utils as image\n",
        "import numpy as np\n",
        "import keras\n",
        "from keras.preprocessing.image import ImageDataGenerator\n",
        "from keras.models import Sequential\n",
        "from keras.layers import Dense, Dropout, Activation, Flatten\n",
        "from keras.layers import Conv2D, MaxPooling2D\n",
        "from keras import backend as K\n",
        "import tensorflow \n",
        "import keras\n",
        "from tensorflow.keras.models import Model as model\n",
        "\n",
        "import pandas as pd\n",
        "import numpy as np\n",
        "import os\n",
        "import keras\n",
        "import random\n",
        "import cv2\n",
        "import math\n",
        "import seaborn as sns\n",
        "\n",
        "import matplotlib.pyplot as plt\n",
        "\n",
        "from tensorflow.keras.layers import Dense,GlobalAveragePooling2D,Convolution2D,BatchNormalization\n",
        "from tensorflow.keras.layers import Flatten,MaxPooling2D,Dropout\n",
        "\n",
        "from tensorflow.keras.applications import DenseNet121\n",
        "from tensorflow.keras.applications.densenet import preprocess_input\n",
        "\n",
        "from tensorflow.keras.preprocessing import image\n",
        "from tensorflow.keras.preprocessing.image import ImageDataGenerator,img_to_array\n",
        "\n",
        "from tensorflow.keras.models import Model\n",
        "\n",
        "from tensorflow.keras.optimizers import Adam\n",
        "\n",
        "from tensorflow.keras.callbacks import ModelCheckpoint, ReduceLROnPlateau\n",
        "\n",
        "import warnings\n",
        "warnings.filterwarnings(\"ignore\")"
      ],
      "metadata": {
        "id": "5AuGHLa_kN_Y"
      },
      "execution_count": null,
      "outputs": []
    },
    {
      "cell_type": "code",
      "source": [
        "classification_result=\"grape\""
      ],
      "metadata": {
        "id": "KwvOlEjDkQh3"
      },
      "execution_count": null,
      "outputs": []
    },
    {
      "cell_type": "code",
      "source": [
        "if classification_result=='corn and maize':\n",
        "  train_path=\"/content/drive/MyDrive/Datasets/Corn_and_Maize/train\"\n",
        "  test_path=\"/content/drive/MyDrive/Datasets/Corn_and_Maize/test\"\n",
        "  det_dictionary = {0: \"blight\", 1: \"common rust\", 2: \"gray leaf spot\", 3: \"healthy\"}\n",
        "elif classification_result=='cotton':\n",
        "  train_path=\"/content/drive/MyDrive/Datasets/Cotton/train\"\n",
        "  test_path=\"/content/drive/MyDrive/Datasets/Cotton/test\"\n",
        "  det_dictionary = {0: \"Black root rot\", 1: \"Lint contamination\", 2: \"Healthy\", 3: \"Healthy\"}\n",
        "elif classification_result=='grape':\n",
        "  train_path=\"/content/drive/MyDrive/Datasets/Grape/train\"\n",
        "  test_path=\"/content/drive/MyDrive/Datasets/Grape/test\"\n",
        "  det_dictionary = {0: \"Black rot(grape)\", 1: \"Grape Esca (Black Measles)\", 2: \"leaf blight (Isariopsis Leaf Spot)\", 3: \"healthy\"}\n",
        "elif classification_result=='potato':\n",
        "  train_path=\"/content/drive/MyDrive/Datasets/Potato/Train\"\n",
        "  test_path=\"/content/drive/MyDrive/Datasets/Potato/Test\"\n",
        "  det_dictionary = {0: \"Early blight\", 1: \"Healthy\", 2: \"late blight\"}\n",
        "elif classification_result=='tomato':\n",
        "  train_path=\"/content/drive/MyDrive/Datasets/Tomato/train\"\n",
        "  test_path=\"/content/drive/MyDrive/Datasets/Tomato/test\"\n",
        "  det_dictionary = {0: \"bacterial spot\", 1: \"Early Blight\", 2: \"Healthy\", 3: \"Late Blight\", 4: \"Leaf Mold\", 5: \"Septoria leaf spot\", 6: \"Spider mites\", 7: \"Target spot\", 8: \"Mosaic virus\", 9: \"Yellow leaf curl virus\"}"
      ],
      "metadata": {
        "id": "HV0C9moakQLf"
      },
      "execution_count": null,
      "outputs": []
    },
    {
      "cell_type": "code",
      "source": [
        "trdata = ImageDataGenerator(rescale = 1./255,\n",
        "                                   shear_range = 0.2,\n",
        "                                   zoom_range = 0.2,\n",
        "                                   horizontal_flip = True)\n",
        "\n",
        "tsdata = ImageDataGenerator(rescale = 1./255)\n",
        "traindata = trdata.flow_from_directory(directory=train_path,target_size=(256,256),batch_size = 32,class_mode = 'categorical')\n",
        "testdata = tsdata.flow_from_directory(directory=test_path, target_size=(256,256),batch_size = 32,class_mode = 'categorical')"
      ],
      "metadata": {
        "colab": {
          "base_uri": "https://localhost:8080/"
        },
        "id": "RIGwbwamklqY",
        "outputId": "14063d26-f3fd-47e7-e455-4336e74b3ff7"
      },
      "execution_count": null,
      "outputs": [
        {
          "output_type": "stream",
          "name": "stdout",
          "text": [
            "Found 5776 images belonging to 4 classes.\n",
            "Found 1806 images belonging to 4 classes.\n"
          ]
        }
      ]
    },
    {
      "cell_type": "code",
      "source": [
        "num_classes=len(traindata.class_indices)\n",
        "print(num_classes)"
      ],
      "metadata": {
        "colab": {
          "base_uri": "https://localhost:8080/"
        },
        "id": "3Ow0qenXkq92",
        "outputId": "e842cd4c-1e79-4dc3-db0e-bdd1074d2e69"
      },
      "execution_count": null,
      "outputs": [
        {
          "output_type": "stream",
          "name": "stdout",
          "text": [
            "4\n"
          ]
        }
      ]
    },
    {
      "cell_type": "code",
      "source": [
        "model = Sequential()\n",
        "model.add(Conv2D(32, (3, 3), activation='relu', input_shape=(256, 256, 3)))\n",
        "model.add(MaxPooling2D(pool_size=(2, 2)))\n",
        "model.add(Conv2D(64, (3, 3), activation='relu'))\n",
        "model.add(MaxPooling2D(pool_size=(2, 2)))\n",
        "model.add(Conv2D(128, (3, 3), activation='relu'))\n",
        "model.add(MaxPooling2D(pool_size=(2, 2)))\n",
        "model.add(Conv2D(256, (3, 3), activation='relu'))\n",
        "model.add(MaxPooling2D(pool_size=(2, 2)))\n",
        "model.add(Flatten())\n",
        "model.add(Dense(512, activation='relu'))\n",
        "model.add(Dropout(0.5))\n",
        "model.add(Dense(num_classes, activation='softmax'))\n",
        "model.compile(loss='categorical_crossentropy', optimizer='adam', metrics=['accuracy'])"
      ],
      "metadata": {
        "id": "fOMb3iMQklhw"
      },
      "execution_count": null,
      "outputs": []
    },
    {
      "cell_type": "code",
      "source": [
        "model.compile(optimizer='Adam',loss='categorical_crossentropy',metrics=['accuracy'])\n",
        "model.summary()"
      ],
      "metadata": {
        "colab": {
          "base_uri": "https://localhost:8080/"
        },
        "id": "5fwPlt4kk-mv",
        "outputId": "1de62c75-44ca-4731-8ab0-eb7b1d6386de"
      },
      "execution_count": null,
      "outputs": [
        {
          "output_type": "stream",
          "name": "stdout",
          "text": [
            "Model: \"sequential\"\n",
            "_________________________________________________________________\n",
            " Layer (type)                Output Shape              Param #   \n",
            "=================================================================\n",
            " conv2d (Conv2D)             (None, 254, 254, 32)      896       \n",
            "                                                                 \n",
            " max_pooling2d (MaxPooling2D  (None, 127, 127, 32)     0         \n",
            " )                                                               \n",
            "                                                                 \n",
            " conv2d_1 (Conv2D)           (None, 125, 125, 64)      18496     \n",
            "                                                                 \n",
            " max_pooling2d_1 (MaxPooling  (None, 62, 62, 64)       0         \n",
            " 2D)                                                             \n",
            "                                                                 \n",
            " conv2d_2 (Conv2D)           (None, 60, 60, 128)       73856     \n",
            "                                                                 \n",
            " max_pooling2d_2 (MaxPooling  (None, 30, 30, 128)      0         \n",
            " 2D)                                                             \n",
            "                                                                 \n",
            " conv2d_3 (Conv2D)           (None, 28, 28, 256)       295168    \n",
            "                                                                 \n",
            " max_pooling2d_3 (MaxPooling  (None, 14, 14, 256)      0         \n",
            " 2D)                                                             \n",
            "                                                                 \n",
            " flatten (Flatten)           (None, 50176)             0         \n",
            "                                                                 \n",
            " dense (Dense)               (None, 512)               25690624  \n",
            "                                                                 \n",
            " dropout (Dropout)           (None, 512)               0         \n",
            "                                                                 \n",
            " dense_1 (Dense)             (None, 4)                 2052      \n",
            "                                                                 \n",
            "=================================================================\n",
            "Total params: 26,081,092\n",
            "Trainable params: 26,081,092\n",
            "Non-trainable params: 0\n",
            "_________________________________________________________________\n"
          ]
        }
      ]
    },
    {
      "cell_type": "code",
      "source": [
        "history = model.fit_generator(traindata,epochs=12,validation_data=testdata)"
      ],
      "metadata": {
        "colab": {
          "base_uri": "https://localhost:8080/"
        },
        "id": "toBoi0_zlDKH",
        "outputId": "c22365b8-0a56-42a1-920a-f8da0ea3e30d"
      },
      "execution_count": null,
      "outputs": [
        {
          "output_type": "stream",
          "name": "stdout",
          "text": [
            "Epoch 1/12\n",
            "181/181 [==============================] - 3087s 17s/step - loss: 0.6913 - accuracy: 0.7135 - val_loss: 0.6603 - val_accuracy: 0.7796\n",
            "Epoch 2/12\n",
            "181/181 [==============================] - 929s 5s/step - loss: 0.2353 - accuracy: 0.9145 - val_loss: 0.1444 - val_accuracy: 0.9546\n",
            "Epoch 3/12\n",
            "181/181 [==============================] - 927s 5s/step - loss: 0.1423 - accuracy: 0.9515 - val_loss: 0.1392 - val_accuracy: 0.9452\n",
            "Epoch 4/12\n",
            "181/181 [==============================] - 924s 5s/step - loss: 0.1041 - accuracy: 0.9645 - val_loss: 0.0792 - val_accuracy: 0.9684\n",
            "Epoch 5/12\n",
            "181/181 [==============================] - 913s 5s/step - loss: 0.0742 - accuracy: 0.9735 - val_loss: 0.0560 - val_accuracy: 0.9784\n",
            "Epoch 6/12\n",
            "181/181 [==============================] - 916s 5s/step - loss: 0.0744 - accuracy: 0.9758 - val_loss: 0.2368 - val_accuracy: 0.9363\n",
            "Epoch 7/12\n",
            "181/181 [==============================] - 914s 5s/step - loss: 0.0649 - accuracy: 0.9773 - val_loss: 0.1028 - val_accuracy: 0.9623\n",
            "Epoch 8/12\n",
            "181/181 [==============================] - 912s 5s/step - loss: 0.0690 - accuracy: 0.9756 - val_loss: 0.0494 - val_accuracy: 0.9839\n",
            "Epoch 9/12\n",
            "181/181 [==============================] - 945s 5s/step - loss: 0.0670 - accuracy: 0.9801 - val_loss: 0.0911 - val_accuracy: 0.9662\n",
            "Epoch 10/12\n",
            "181/181 [==============================] - 928s 5s/step - loss: 0.0353 - accuracy: 0.9887 - val_loss: 0.1380 - val_accuracy: 0.9507\n",
            "Epoch 11/12\n",
            "181/181 [==============================] - 926s 5s/step - loss: 0.0335 - accuracy: 0.9900 - val_loss: 0.0320 - val_accuracy: 0.9906\n",
            "Epoch 12/12\n",
            "181/181 [==============================] - 935s 5s/step - loss: 0.0212 - accuracy: 0.9926 - val_loss: 0.1215 - val_accuracy: 0.9513\n"
          ]
        }
      ]
    },
    {
      "cell_type": "code",
      "source": [
        "model.save(\"/content/drive/MyDrive/Model_Save/grape.h5\")"
      ],
      "metadata": {
        "id": "2nQrC0i5lDA_"
      },
      "execution_count": null,
      "outputs": []
    },
    {
      "cell_type": "code",
      "source": [
        "from keras.models import load_model\n",
        "classifier=load_model(\"/content/drive/MyDrive/Model_Save/grape.h5\")"
      ],
      "metadata": {
        "id": "qNTVXM3clQ7X"
      },
      "execution_count": null,
      "outputs": []
    },
    {
      "cell_type": "code",
      "source": [
        "img = image.load_img('/content/drive/MyDrive/Datasets/Grape/test/Grape___Leaf_blight_(Isariopsis_Leaf_Spot)/0b267a2e-c32d-47cd-8494-efc12a326493___FAM_L.Blight 0815_flipLR.JPG', target_size=(256, 256))\n",
        "x = image.img_to_array(img)\n",
        "x = x.reshape((1,) + x.shape)\n",
        "x = x / 255.\n",
        "predictions = classifier.predict(x)\n",
        "class_index = predictions\n",
        "class_index1 = np.argmax(predictions)\n",
        "print(class_index)\n",
        "detection_result = (det_dictionary[class_index1])\n",
        "print(detection_result)"
      ],
      "metadata": {
        "id": "TbzdYLoElQxg",
        "colab": {
          "base_uri": "https://localhost:8080/"
        },
        "outputId": "56cff291-c42a-4d48-b8cd-e2d0651055c4"
      },
      "execution_count": null,
      "outputs": [
        {
          "output_type": "stream",
          "name": "stdout",
          "text": [
            "1/1 [==============================] - 0s 78ms/step\n",
            "[[2.7826849e-05 1.0875588e-05 9.9996126e-01 5.7871897e-08]]\n",
            "leaf blight (Isariopsis Leaf Spot)\n"
          ]
        }
      ]
    },
    {
      "cell_type": "code",
      "source": [
        "import matplotlib.pyplot as plt\n",
        "plt.plot(history.history['accuracy'])\n",
        "plt.plot(history.history['val_accuracy'])\n",
        "plt.title('Model accuracy')\n",
        "plt.ylabel('Accuracy')\n",
        "plt.xlabel('Epoch')\n",
        "plt.legend(['Train', 'Test'], loc='upper left')\n",
        "plt.show()\n",
        "plt.plot(history.history['loss'])\n",
        "plt.plot(history.history['val_loss'])\n",
        "plt.title('Model loss')\n",
        "plt.ylabel('Loss')\n",
        "plt.xlabel('Epoch')\n",
        "plt.legend(['Train', 'Test'], loc='upper left')\n",
        "plt.show()"
      ],
      "metadata": {
        "id": "oeKqNdvolQV3",
        "colab": {
          "base_uri": "https://localhost:8080/",
          "height": 573
        },
        "outputId": "12adba13-2100-4df2-fc7b-f96c7386728d"
      },
      "execution_count": null,
      "outputs": [
        {
          "output_type": "display_data",
          "data": {
            "text/plain": [
              "<Figure size 432x288 with 1 Axes>"
            ],
            "image/png": "[encoded data removed]"
          },
          "metadata": {
            "needs_background": "light"
          }
        },
        {
          "output_type": "display_data",
          "data": {
            "text/plain": [
              "<Figure size 432x288 with 1 Axes>"
            ],
            "image/png": "[encoded data removed]"
          },
          "metadata": {
            "needs_background": "light"
          }
        }
      ]
    }
  ]
}